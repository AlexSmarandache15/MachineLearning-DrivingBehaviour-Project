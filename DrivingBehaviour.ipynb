{
  "nbformat": 4,
  "nbformat_minor": 0,
  "metadata": {
    "colab": {
      "provenance": []
    },
    "kernelspec": {
      "name": "python3",
      "display_name": "Python 3"
    },
    "language_info": {
      "name": "python"
    }
  },
  "cells": [
    {
      "cell_type": "code",
      "execution_count": null,
      "metadata": {
        "id": "Cs8tj1jZ10ao"
      },
      "outputs": [],
      "source": [
        "import numpy as np # linear algebra\n",
        "import pandas as pd # data processing, CSV file I/O (e.g. pd.read_csv)"
      ]
    },
    {
      "cell_type": "code",
      "source": [
        "train_data = pd.read_csv(\"train_motion_data.csv\")\n",
        "features = ['AccX', 'AccY', 'AccZ', 'GyroX', 'GyroY', 'GyroZ']\n",
        "#features = ['AccX', 'AccY', 'AccZ']\n",
        "x_train = train_data[features].dropna()\n",
        "y_train = train_data['Class']"
      ],
      "metadata": {
        "id": "Xl15yv6B23y8"
      },
      "execution_count": null,
      "outputs": []
    },
    {
      "cell_type": "code",
      "source": [
        "test_data = pd.read_csv(\"Test.csv\")\n",
        "x_test = test_data[features].dropna()"
      ],
      "metadata": {
        "id": "3B8HbNvV3E29"
      },
      "execution_count": null,
      "outputs": []
    },
    {
      "cell_type": "code",
      "source": [
        "# DecisionTreeClassifier\n",
        "from sklearn.tree import DecisionTreeClassifier\n",
        "dtree = DecisionTreeClassifier()\n",
        "dtree = dtree.fit(x_train, y_train)\n",
        "y_predictions = dtree.predict(x_test)"
      ],
      "metadata": {
        "id": "uK2vWEhM3MdG"
      },
      "execution_count": null,
      "outputs": []
    },
    {
      "cell_type": "code",
      "source": [
        "# RandomForestClassifier\n",
        "from sklearn.ensemble import RandomForestClassifier\n",
        "forest_clf= RandomForestClassifier(random_state= 20)\n",
        "forest_clf = forest_clf.fit(x_train, y_train)\n",
        "y_predictions = forest_clf.predict(x_test)"
      ],
      "metadata": {
        "id": "x8NELJw630Vw"
      },
      "execution_count": null,
      "outputs": []
    },
    {
      "cell_type": "code",
      "source": [
        "# AdaBoostClassifier\n",
        "from sklearn.ensemble import AdaBoostClassifier\n",
        "from sklearn.tree import DecisionTreeClassifier\n",
        "adc_clf = AdaBoostClassifier(n_estimators=10)\n",
        "#adc_clf = AdaBoostClassifier(estimator=DecisionTreeClassifier(max_depth=3), n_estimators=2, learning_rate=0.8)\n",
        "adc_clf = adc_clf.fit(x_train, y_train)\n",
        "y_predictions = adc_clf.predict(x_test)"
      ],
      "metadata": {
        "id": "AlLPCyZK4FNK"
      },
      "execution_count": null,
      "outputs": []
    },
    {
      "cell_type": "code",
      "source": [
        "# MLPClassifier\n",
        "from sklearn.neural_network import MLPClassifier\n",
        "mlp_clf = MLPClassifier(early_stopping=True, batch_size=64, verbose=True, \n",
        "                        learning_rate_init=0.001, \n",
        "                        hidden_layer_sizes=(32, 64, 128), random_state=0)\n",
        "mlp_clf = mlp_clf.fit(x_train, y_train)\n",
        "y_predictions = mlp_clf.predict(x_test)"
      ],
      "metadata": {
        "id": "3ZsjtDDP4XYr"
      },
      "execution_count": null,
      "outputs": []
    },
    {
      "cell_type": "code",
      "source": [
        "# SVC\n",
        "from sklearn.svm import SVC\n",
        "svc = SVC(kernel='rbf')\n",
        "svc = svc.fit(x_train, y_train)\n",
        "y_predictions = svc.predict(x_test)"
      ],
      "metadata": {
        "id": "HujwWtwm4mkz"
      },
      "execution_count": null,
      "outputs": []
    },
    {
      "cell_type": "code",
      "source": [
        "# KNeighborsClassifier\n",
        "from sklearn.neighbors import KNeighborsClassifier\n",
        "kn_clf = KNeighborsClassifier()\n",
        "kn_clf = kn_clf.fit(x_train, y_train)\n",
        "y_predictions = kn_clf.predict(x_test)"
      ],
      "metadata": {
        "id": "1LEGN95O4zZE"
      },
      "execution_count": null,
      "outputs": []
    },
    {
      "cell_type": "code",
      "source": [
        "# LGBMClassifier\n",
        "import lightgbm as lgb\n",
        "lbgm_clf = lgb.LGBMClassifier(n_estimators=2, num_leaves=4, \n",
        "                              min_child_samples=10, learning_rate= 0.1)\n",
        "lbgm_clf.fit(x_train, y_train)\n",
        "y_predictions = lbgm_clf.predict(x_test)"
      ],
      "metadata": {
        "id": "jPxm__h05BmX"
      },
      "execution_count": null,
      "outputs": []
    },
    {
      "cell_type": "code",
      "source": [
        "# LinearDiscriminantAnalysis\n",
        "from sklearn.discriminant_analysis import LinearDiscriminantAnalysis\n",
        "lda = LinearDiscriminantAnalysis()\n",
        "lda.fit(x_train, y_train)\n",
        "y_predictions = lda.predict(x_test)"
      ],
      "metadata": {
        "id": "3t07rpTs5VFg"
      },
      "execution_count": null,
      "outputs": []
    },
    {
      "cell_type": "code",
      "source": [
        "# LogisticRegression\n",
        "from sklearn import linear_model\n",
        "logr = linear_model.LogisticRegression()\n",
        "logr.fit(x_train, y_train)\n",
        "y_predictions = logr.predict(x_test)"
      ],
      "metadata": {
        "id": "-kEZY5LF5kIY"
      },
      "execution_count": null,
      "outputs": []
    },
    {
      "cell_type": "code",
      "source": [
        "# GaussianNB\n",
        "from sklearn.naive_bayes import GaussianNB\n",
        "gnb = GaussianNB()\n",
        "gnb.fit(x_train, y_train)\n",
        "y_predictions = gnb.predict(x_test)"
      ],
      "metadata": {
        "id": "EuHHwdIg5qPg"
      },
      "execution_count": null,
      "outputs": []
    },
    {
      "cell_type": "code",
      "source": [
        "# BernoulliNB\n",
        "from sklearn.naive_bayes import BernoulliNB\n",
        "bnb = BernoulliNB()\n",
        "bnb.fit(x_train, y_train)\n",
        "y_predictions = bnb.predict(x_test)"
      ],
      "metadata": {
        "id": "jJO8rG-M5x_H"
      },
      "execution_count": null,
      "outputs": []
    },
    {
      "cell_type": "code",
      "source": [
        "# PassiveAggressiveClassifier\n",
        "from sklearn.linear_model import PassiveAggressiveClassifier\n",
        "pac = PassiveAggressiveClassifier()\n",
        "pac.fit(x_train, y_train)\n",
        "y_predictions = pac.predict(x_test)"
      ],
      "metadata": {
        "id": "7d4bs53H6BIQ"
      },
      "execution_count": null,
      "outputs": []
    },
    {
      "cell_type": "code",
      "source": [
        "# Perceptron\n",
        "from sklearn.linear_model import Perceptron\n",
        "per = Perceptron()\n",
        "per.fit(x_train, y_train)\n",
        "y_predictions = per.predict(x_test)"
      ],
      "metadata": {
        "id": "hBhga1346cj_"
      },
      "execution_count": null,
      "outputs": []
    },
    {
      "cell_type": "code",
      "source": [
        "# SGDClassifier\n",
        "from sklearn.linear_model import SGDClassifier\n",
        "sgdc = SGDClassifier()\n",
        "sgdc.fit(x_train, y_train)\n",
        "y_predictions = sgdc.predict(x_test)"
      ],
      "metadata": {
        "id": "I5ZqZEm76hhx"
      },
      "execution_count": null,
      "outputs": []
    },
    {
      "cell_type": "code",
      "source": [
        "# QuadraticDiscriminantAnalysis\n",
        "from sklearn.discriminant_analysis import QuadraticDiscriminantAnalysis\n",
        "qda = QuadraticDiscriminantAnalysis()\n",
        "qda.fit(x_train, y_train)\n",
        "y_predictions = qda.predict(x_test)"
      ],
      "metadata": {
        "id": "Qz6HpO6m6owb"
      },
      "execution_count": null,
      "outputs": []
    },
    {
      "cell_type": "code",
      "source": [
        "ids = test_data['ID'].dropna()\n",
        "Final_predictions= pd.DataFrame(y_predictions, columns=['Class'])\n",
        "Final_predictions.index.name='ID'\n",
        "Final_predictions.index += 1\n",
        "Final_predictions= Final_predictions.to_csv(\n",
        "    'Final_Predictions.csv', header= 'Class', index='true')"
      ],
      "metadata": {
        "id": "i_bsgTDa3h6C"
      },
      "execution_count": null,
      "outputs": []
    }
  ]
}